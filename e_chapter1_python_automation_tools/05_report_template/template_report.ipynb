{
 "cells": [
  {
   "cell_type": "markdown",
   "metadata": {},
   "source": [
    "# 自動レポートテンプレート / Auto Report Template\n",
    "## 実験概要 / Experiment Summary\n",
    "- デバイス: NMOS, PMOS\n",
    "- シミュレーション: SPICE (Vg–Id), BTI, TDDB\n"
   ]
  },
  {
   "cell_type": "code",
   "metadata": {},
   "source": [
    "import pandas as pd\n",
    "import matplotlib.pyplot as plt\n",
    "img_path = \"images/VgId_W1.0_L0.15.png\"\n",
    "from IPython.display import Image\n",
    "Image(img_path)"
   ]
  }
 ],
 "metadata": {
  "kernelspec": {
   "display_name": "Python 3",
   "language": "python",
   "name": "python3"
  }
 },
 "nbformat": 4,
 "nbformat_minor": 2
}
